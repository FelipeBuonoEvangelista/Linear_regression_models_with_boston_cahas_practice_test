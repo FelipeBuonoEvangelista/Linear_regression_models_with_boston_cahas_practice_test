{
  "nbformat": 4,
  "nbformat_minor": 0,
  "metadata": {
    "colab": {
      "provenance": [],
      "authorship_tag": "ABX9TyMRwtWRiRm5OOilwZ1reDs1",
      "include_colab_link": true
    },
    "kernelspec": {
      "name": "python3",
      "display_name": "Python 3"
    },
    "language_info": {
      "name": "python"
    }
  },
  "cells": [
    {
      "cell_type": "markdown",
      "metadata": {
        "id": "view-in-github",
        "colab_type": "text"
      },
      "source": [
        "<a href=\"https://colab.research.google.com/github/FelipeBuonoEvangelista/Linear_regression_models_with_boston_cahas_practice_test/blob/main/Houses_Boston_Training_Regression.ipynb\" target=\"_parent\"><img src=\"https://colab.research.google.com/assets/colab-badge.svg\" alt=\"Open In Colab\"/></a>"
      ]
    },
    {
      "cell_type": "code",
      "execution_count": 94,
      "metadata": {
        "id": "r9WHtwP1Lj93"
      },
      "outputs": [],
      "source": [
        "#Bibliotecas usadas\n",
        "import pandas as pd\n",
        "\n",
        "import numpy as np\n",
        "\n",
        "from sklearn.model_selection import train_test_split, GridSearchCV\n",
        "from sklearn.linear_model import LinearRegression\n",
        "from sklearn.metrics import mean_squared_error\n",
        "from sklearn.svm import SVR\n",
        "from sklearn import datasets\n",
        "\n",
        "from xgboost import XGBRegressor\n",
        "\n",
        "#Base de dados para a análise\n",
        "df = pd.read_csv(\n",
        "    filepath_or_buffer=\"http://lib.stat.cmu.edu/datasets/boston\",\n",
        "    delim_whitespace=True,\n",
        "    skiprows=21,\n",
        "    header=None,\n",
        ")\n",
        "\n",
        "columns = [\n",
        "    'CRIM',\n",
        "    'ZN',\n",
        "    'INDUS',\n",
        "    'CHAS',\n",
        "    'NOX',\n",
        "    'RM',\n",
        "    'AGE',\n",
        "    'DIS',\n",
        "    'RAD',\n",
        "    'TAX',\n",
        "    'PTRATIO',\n",
        "    'B',\n",
        "    'LSTAT',\n",
        "    'MEDV',\n",
        "]\n",
        "\n",
        "\n",
        "values_w_nulls = df.values.flatten()\n",
        "all_values = values_w_nulls[~np.isnan(values_w_nulls)]\n",
        "\n",
        "\n",
        "df = pd.DataFrame(\n",
        "    data = all_values.reshape(-1, len(columns)),\n",
        "    columns = columns,\n",
        ")"
      ]
    },
    {
      "cell_type": "code",
      "source": [
        "#Visão curta dos dados\n",
        "df.head()"
      ],
      "metadata": {
        "colab": {
          "base_uri": "https://localhost:8080/",
          "height": 206
        },
        "id": "Q9EJTU1eOIXb",
        "outputId": "3df76624-a188-4bb3-99c7-2d480d166023"
      },
      "execution_count": 95,
      "outputs": [
        {
          "output_type": "execute_result",
          "data": {
            "text/plain": [
              "      CRIM    ZN  INDUS  CHAS    NOX     RM   AGE     DIS  RAD    TAX  \\\n",
              "0  0.00632  18.0   2.31   0.0  0.538  6.575  65.2  4.0900  1.0  296.0   \n",
              "1  0.02731   0.0   7.07   0.0  0.469  6.421  78.9  4.9671  2.0  242.0   \n",
              "2  0.02729   0.0   7.07   0.0  0.469  7.185  61.1  4.9671  2.0  242.0   \n",
              "3  0.03237   0.0   2.18   0.0  0.458  6.998  45.8  6.0622  3.0  222.0   \n",
              "4  0.06905   0.0   2.18   0.0  0.458  7.147  54.2  6.0622  3.0  222.0   \n",
              "\n",
              "   PTRATIO       B  LSTAT  MEDV  \n",
              "0     15.3  396.90   4.98  24.0  \n",
              "1     17.8  396.90   9.14  21.6  \n",
              "2     17.8  392.83   4.03  34.7  \n",
              "3     18.7  394.63   2.94  33.4  \n",
              "4     18.7  396.90   5.33  36.2  "
            ],
            "text/html": [
              "\n",
              "  <div id=\"df-53d0df86-55be-4558-8162-fda5d75a7a87\" class=\"colab-df-container\">\n",
              "    <div>\n",
              "<style scoped>\n",
              "    .dataframe tbody tr th:only-of-type {\n",
              "        vertical-align: middle;\n",
              "    }\n",
              "\n",
              "    .dataframe tbody tr th {\n",
              "        vertical-align: top;\n",
              "    }\n",
              "\n",
              "    .dataframe thead th {\n",
              "        text-align: right;\n",
              "    }\n",
              "</style>\n",
              "<table border=\"1\" class=\"dataframe\">\n",
              "  <thead>\n",
              "    <tr style=\"text-align: right;\">\n",
              "      <th></th>\n",
              "      <th>CRIM</th>\n",
              "      <th>ZN</th>\n",
              "      <th>INDUS</th>\n",
              "      <th>CHAS</th>\n",
              "      <th>NOX</th>\n",
              "      <th>RM</th>\n",
              "      <th>AGE</th>\n",
              "      <th>DIS</th>\n",
              "      <th>RAD</th>\n",
              "      <th>TAX</th>\n",
              "      <th>PTRATIO</th>\n",
              "      <th>B</th>\n",
              "      <th>LSTAT</th>\n",
              "      <th>MEDV</th>\n",
              "    </tr>\n",
              "  </thead>\n",
              "  <tbody>\n",
              "    <tr>\n",
              "      <th>0</th>\n",
              "      <td>0.00632</td>\n",
              "      <td>18.0</td>\n",
              "      <td>2.31</td>\n",
              "      <td>0.0</td>\n",
              "      <td>0.538</td>\n",
              "      <td>6.575</td>\n",
              "      <td>65.2</td>\n",
              "      <td>4.0900</td>\n",
              "      <td>1.0</td>\n",
              "      <td>296.0</td>\n",
              "      <td>15.3</td>\n",
              "      <td>396.90</td>\n",
              "      <td>4.98</td>\n",
              "      <td>24.0</td>\n",
              "    </tr>\n",
              "    <tr>\n",
              "      <th>1</th>\n",
              "      <td>0.02731</td>\n",
              "      <td>0.0</td>\n",
              "      <td>7.07</td>\n",
              "      <td>0.0</td>\n",
              "      <td>0.469</td>\n",
              "      <td>6.421</td>\n",
              "      <td>78.9</td>\n",
              "      <td>4.9671</td>\n",
              "      <td>2.0</td>\n",
              "      <td>242.0</td>\n",
              "      <td>17.8</td>\n",
              "      <td>396.90</td>\n",
              "      <td>9.14</td>\n",
              "      <td>21.6</td>\n",
              "    </tr>\n",
              "    <tr>\n",
              "      <th>2</th>\n",
              "      <td>0.02729</td>\n",
              "      <td>0.0</td>\n",
              "      <td>7.07</td>\n",
              "      <td>0.0</td>\n",
              "      <td>0.469</td>\n",
              "      <td>7.185</td>\n",
              "      <td>61.1</td>\n",
              "      <td>4.9671</td>\n",
              "      <td>2.0</td>\n",
              "      <td>242.0</td>\n",
              "      <td>17.8</td>\n",
              "      <td>392.83</td>\n",
              "      <td>4.03</td>\n",
              "      <td>34.7</td>\n",
              "    </tr>\n",
              "    <tr>\n",
              "      <th>3</th>\n",
              "      <td>0.03237</td>\n",
              "      <td>0.0</td>\n",
              "      <td>2.18</td>\n",
              "      <td>0.0</td>\n",
              "      <td>0.458</td>\n",
              "      <td>6.998</td>\n",
              "      <td>45.8</td>\n",
              "      <td>6.0622</td>\n",
              "      <td>3.0</td>\n",
              "      <td>222.0</td>\n",
              "      <td>18.7</td>\n",
              "      <td>394.63</td>\n",
              "      <td>2.94</td>\n",
              "      <td>33.4</td>\n",
              "    </tr>\n",
              "    <tr>\n",
              "      <th>4</th>\n",
              "      <td>0.06905</td>\n",
              "      <td>0.0</td>\n",
              "      <td>2.18</td>\n",
              "      <td>0.0</td>\n",
              "      <td>0.458</td>\n",
              "      <td>7.147</td>\n",
              "      <td>54.2</td>\n",
              "      <td>6.0622</td>\n",
              "      <td>3.0</td>\n",
              "      <td>222.0</td>\n",
              "      <td>18.7</td>\n",
              "      <td>396.90</td>\n",
              "      <td>5.33</td>\n",
              "      <td>36.2</td>\n",
              "    </tr>\n",
              "  </tbody>\n",
              "</table>\n",
              "</div>\n",
              "    <div class=\"colab-df-buttons\">\n",
              "\n",
              "  <div class=\"colab-df-container\">\n",
              "    <button class=\"colab-df-convert\" onclick=\"convertToInteractive('df-53d0df86-55be-4558-8162-fda5d75a7a87')\"\n",
              "            title=\"Convert this dataframe to an interactive table.\"\n",
              "            style=\"display:none;\">\n",
              "\n",
              "  <svg xmlns=\"http://www.w3.org/2000/svg\" height=\"24px\" viewBox=\"0 -960 960 960\">\n",
              "    <path d=\"M120-120v-720h720v720H120Zm60-500h600v-160H180v160Zm220 220h160v-160H400v160Zm0 220h160v-160H400v160ZM180-400h160v-160H180v160Zm440 0h160v-160H620v160ZM180-180h160v-160H180v160Zm440 0h160v-160H620v160Z\"/>\n",
              "  </svg>\n",
              "    </button>\n",
              "\n",
              "  <style>\n",
              "    .colab-df-container {\n",
              "      display:flex;\n",
              "      gap: 12px;\n",
              "    }\n",
              "\n",
              "    .colab-df-convert {\n",
              "      background-color: #E8F0FE;\n",
              "      border: none;\n",
              "      border-radius: 50%;\n",
              "      cursor: pointer;\n",
              "      display: none;\n",
              "      fill: #1967D2;\n",
              "      height: 32px;\n",
              "      padding: 0 0 0 0;\n",
              "      width: 32px;\n",
              "    }\n",
              "\n",
              "    .colab-df-convert:hover {\n",
              "      background-color: #E2EBFA;\n",
              "      box-shadow: 0px 1px 2px rgba(60, 64, 67, 0.3), 0px 1px 3px 1px rgba(60, 64, 67, 0.15);\n",
              "      fill: #174EA6;\n",
              "    }\n",
              "\n",
              "    .colab-df-buttons div {\n",
              "      margin-bottom: 4px;\n",
              "    }\n",
              "\n",
              "    [theme=dark] .colab-df-convert {\n",
              "      background-color: #3B4455;\n",
              "      fill: #D2E3FC;\n",
              "    }\n",
              "\n",
              "    [theme=dark] .colab-df-convert:hover {\n",
              "      background-color: #434B5C;\n",
              "      box-shadow: 0px 1px 3px 1px rgba(0, 0, 0, 0.15);\n",
              "      filter: drop-shadow(0px 1px 2px rgba(0, 0, 0, 0.3));\n",
              "      fill: #FFFFFF;\n",
              "    }\n",
              "  </style>\n",
              "\n",
              "    <script>\n",
              "      const buttonEl =\n",
              "        document.querySelector('#df-53d0df86-55be-4558-8162-fda5d75a7a87 button.colab-df-convert');\n",
              "      buttonEl.style.display =\n",
              "        google.colab.kernel.accessAllowed ? 'block' : 'none';\n",
              "\n",
              "      async function convertToInteractive(key) {\n",
              "        const element = document.querySelector('#df-53d0df86-55be-4558-8162-fda5d75a7a87');\n",
              "        const dataTable =\n",
              "          await google.colab.kernel.invokeFunction('convertToInteractive',\n",
              "                                                    [key], {});\n",
              "        if (!dataTable) return;\n",
              "\n",
              "        const docLinkHtml = 'Like what you see? Visit the ' +\n",
              "          '<a target=\"_blank\" href=https://colab.research.google.com/notebooks/data_table.ipynb>data table notebook</a>'\n",
              "          + ' to learn more about interactive tables.';\n",
              "        element.innerHTML = '';\n",
              "        dataTable['output_type'] = 'display_data';\n",
              "        await google.colab.output.renderOutput(dataTable, element);\n",
              "        const docLink = document.createElement('div');\n",
              "        docLink.innerHTML = docLinkHtml;\n",
              "        element.appendChild(docLink);\n",
              "      }\n",
              "    </script>\n",
              "  </div>\n",
              "\n",
              "\n",
              "<div id=\"df-c497de8e-8e61-4cef-b696-1c06a64b4ee7\">\n",
              "  <button class=\"colab-df-quickchart\" onclick=\"quickchart('df-c497de8e-8e61-4cef-b696-1c06a64b4ee7')\"\n",
              "            title=\"Suggest charts\"\n",
              "            style=\"display:none;\">\n",
              "\n",
              "<svg xmlns=\"http://www.w3.org/2000/svg\" height=\"24px\"viewBox=\"0 0 24 24\"\n",
              "     width=\"24px\">\n",
              "    <g>\n",
              "        <path d=\"M19 3H5c-1.1 0-2 .9-2 2v14c0 1.1.9 2 2 2h14c1.1 0 2-.9 2-2V5c0-1.1-.9-2-2-2zM9 17H7v-7h2v7zm4 0h-2V7h2v10zm4 0h-2v-4h2v4z\"/>\n",
              "    </g>\n",
              "</svg>\n",
              "  </button>\n",
              "\n",
              "<style>\n",
              "  .colab-df-quickchart {\n",
              "      --bg-color: #E8F0FE;\n",
              "      --fill-color: #1967D2;\n",
              "      --hover-bg-color: #E2EBFA;\n",
              "      --hover-fill-color: #174EA6;\n",
              "      --disabled-fill-color: #AAA;\n",
              "      --disabled-bg-color: #DDD;\n",
              "  }\n",
              "\n",
              "  [theme=dark] .colab-df-quickchart {\n",
              "      --bg-color: #3B4455;\n",
              "      --fill-color: #D2E3FC;\n",
              "      --hover-bg-color: #434B5C;\n",
              "      --hover-fill-color: #FFFFFF;\n",
              "      --disabled-bg-color: #3B4455;\n",
              "      --disabled-fill-color: #666;\n",
              "  }\n",
              "\n",
              "  .colab-df-quickchart {\n",
              "    background-color: var(--bg-color);\n",
              "    border: none;\n",
              "    border-radius: 50%;\n",
              "    cursor: pointer;\n",
              "    display: none;\n",
              "    fill: var(--fill-color);\n",
              "    height: 32px;\n",
              "    padding: 0;\n",
              "    width: 32px;\n",
              "  }\n",
              "\n",
              "  .colab-df-quickchart:hover {\n",
              "    background-color: var(--hover-bg-color);\n",
              "    box-shadow: 0 1px 2px rgba(60, 64, 67, 0.3), 0 1px 3px 1px rgba(60, 64, 67, 0.15);\n",
              "    fill: var(--button-hover-fill-color);\n",
              "  }\n",
              "\n",
              "  .colab-df-quickchart-complete:disabled,\n",
              "  .colab-df-quickchart-complete:disabled:hover {\n",
              "    background-color: var(--disabled-bg-color);\n",
              "    fill: var(--disabled-fill-color);\n",
              "    box-shadow: none;\n",
              "  }\n",
              "\n",
              "  .colab-df-spinner {\n",
              "    border: 2px solid var(--fill-color);\n",
              "    border-color: transparent;\n",
              "    border-bottom-color: var(--fill-color);\n",
              "    animation:\n",
              "      spin 1s steps(1) infinite;\n",
              "  }\n",
              "\n",
              "  @keyframes spin {\n",
              "    0% {\n",
              "      border-color: transparent;\n",
              "      border-bottom-color: var(--fill-color);\n",
              "      border-left-color: var(--fill-color);\n",
              "    }\n",
              "    20% {\n",
              "      border-color: transparent;\n",
              "      border-left-color: var(--fill-color);\n",
              "      border-top-color: var(--fill-color);\n",
              "    }\n",
              "    30% {\n",
              "      border-color: transparent;\n",
              "      border-left-color: var(--fill-color);\n",
              "      border-top-color: var(--fill-color);\n",
              "      border-right-color: var(--fill-color);\n",
              "    }\n",
              "    40% {\n",
              "      border-color: transparent;\n",
              "      border-right-color: var(--fill-color);\n",
              "      border-top-color: var(--fill-color);\n",
              "    }\n",
              "    60% {\n",
              "      border-color: transparent;\n",
              "      border-right-color: var(--fill-color);\n",
              "    }\n",
              "    80% {\n",
              "      border-color: transparent;\n",
              "      border-right-color: var(--fill-color);\n",
              "      border-bottom-color: var(--fill-color);\n",
              "    }\n",
              "    90% {\n",
              "      border-color: transparent;\n",
              "      border-bottom-color: var(--fill-color);\n",
              "    }\n",
              "  }\n",
              "</style>\n",
              "\n",
              "  <script>\n",
              "    async function quickchart(key) {\n",
              "      const quickchartButtonEl =\n",
              "        document.querySelector('#' + key + ' button');\n",
              "      quickchartButtonEl.disabled = true;  // To prevent multiple clicks.\n",
              "      quickchartButtonEl.classList.add('colab-df-spinner');\n",
              "      try {\n",
              "        const charts = await google.colab.kernel.invokeFunction(\n",
              "            'suggestCharts', [key], {});\n",
              "      } catch (error) {\n",
              "        console.error('Error during call to suggestCharts:', error);\n",
              "      }\n",
              "      quickchartButtonEl.classList.remove('colab-df-spinner');\n",
              "      quickchartButtonEl.classList.add('colab-df-quickchart-complete');\n",
              "    }\n",
              "    (() => {\n",
              "      let quickchartButtonEl =\n",
              "        document.querySelector('#df-c497de8e-8e61-4cef-b696-1c06a64b4ee7 button');\n",
              "      quickchartButtonEl.style.display =\n",
              "        google.colab.kernel.accessAllowed ? 'block' : 'none';\n",
              "    })();\n",
              "  </script>\n",
              "</div>\n",
              "\n",
              "    </div>\n",
              "  </div>\n"
            ]
          },
          "metadata": {},
          "execution_count": 95
        }
      ]
    },
    {
      "cell_type": "code",
      "source": [
        "#Características das casas\n",
        "X = df[[\"CRIM\",\"ZN\",\"INDUS\",\"CHAS\",\"NOX\",\"RM\",\"AGE\",\"DIS\",\"RAD\",\"TAX\",\"PTRATIO\",\"B\",\"LSTAT\"]]\n",
        "\n",
        "#Preço das casas - Target\n",
        "y = df[[\"MEDV\"]]"
      ],
      "metadata": {
        "id": "H6s98_TEdlsr"
      },
      "execution_count": 96,
      "outputs": []
    },
    {
      "cell_type": "markdown",
      "source": [
        "#MODELING TECHNIQUES\n",
        "\n",
        "1.Regressão linear do SKLEARN\n",
        "<https://scikit-learn.org/stable/modules/generated/sklearn.linear_model.LinearRegression.html#sklearn.linear_model.LinearRegression>\n",
        "\n",
        "2.Support Vector Regression do SKLEARN\n",
        "<https://scikit-learn.org/stable/modules/generated/sklearn.svm.SVR.html>\n",
        "\n",
        "3.Decision Tree Regression do XGBoost\n",
        "<https://xgboost.readthedocs.io/en/stable/treemethod.html#>\n",
        "\n",
        "Modeling Assumptions:\n",
        "\n",
        "Apenas Variáveis numéricas"
      ],
      "metadata": {
        "id": "vkeDNvv2Ocou"
      }
    },
    {
      "cell_type": "markdown",
      "source": [
        "#TEST DESIGN\n",
        "\n",
        "##Dataset split:\n",
        "\n",
        "Separação de Train/Test dataset padrão com 20% de massa para teste via método SKLEARN\n",
        "<https://scikit-learn.org/stable/modules/generated/sklearn.model_selection.train_test_split.html>\n",
        "\n",
        "##Métrica de avaliação do modelo:\n",
        "\n",
        "Validação da métrica MSE e RMSE para penalizar grandes erros de previsão.\n",
        "\n",
        "Utilizando o método do SKLEARN.\n",
        "<https://scikit-learn.org/stable/modules/generated/sklearn.metrics.mean_squared_error.html>"
      ],
      "metadata": {
        "id": "DuLk1HPiRr8N"
      }
    },
    {
      "cell_type": "code",
      "source": [
        "#Criando as variáveis de teste e treino, por fim separando suas proporções\n",
        "X_train, X_test, y_train, y_test = train_test_split(X,y, test_size = 0.2, random_state=42)"
      ],
      "metadata": {
        "id": "A9kTGgItL5uG"
      },
      "execution_count": 97,
      "outputs": []
    },
    {
      "cell_type": "markdown",
      "source": [
        "#TÉCNICA 1. REGRESSÃO LINEAR\n",
        "\n"
      ],
      "metadata": {
        "id": "OMBvTjiM0Dg_"
      }
    },
    {
      "cell_type": "code",
      "source": [
        "#Definindo minha variável de Regressão Linear\n",
        "regLinear = LinearRegression().fit(X_train,y_train)"
      ],
      "metadata": {
        "id": "JrKWtpzjSbYc"
      },
      "execution_count": 98,
      "outputs": []
    },
    {
      "cell_type": "code",
      "source": [
        "#Criando um modelo para predizer a massa de teste\n",
        "yPredLinear = regLinear.predict(X_test)"
      ],
      "metadata": {
        "id": "s8BO4vr1UPFr"
      },
      "execution_count": 99,
      "outputs": []
    },
    {
      "cell_type": "code",
      "source": [
        "#Calculando o Mean Squared Error\n",
        "MSELinear = mean_squared_error(y_test,yPredLinear)"
      ],
      "metadata": {
        "id": "uDzoSBW-UPPT"
      },
      "execution_count": 100,
      "outputs": []
    },
    {
      "cell_type": "code",
      "source": [
        "#Encontrando o RMSE (raiz do MSE)\n",
        "print(\"MSE Linear:\",MSELinear)\n",
        "print(\"RMSE Linear:\",np.sqrt(MSELinear))"
      ],
      "metadata": {
        "colab": {
          "base_uri": "https://localhost:8080/"
        },
        "id": "NXUcwJwayl11",
        "outputId": "02351956-563e-46bd-f8c9-61c6f5dd367f"
      },
      "execution_count": 101,
      "outputs": [
        {
          "output_type": "stream",
          "name": "stdout",
          "text": [
            "MSE Linear: 24.291119474973485\n",
            "RMSE Linear: 4.928602182665333\n"
          ]
        }
      ]
    },
    {
      "cell_type": "markdown",
      "source": [
        "#TÉCNICA 2. SVR"
      ],
      "metadata": {
        "id": "mnqbEwlO0PNd"
      }
    },
    {
      "cell_type": "code",
      "source": [
        "#Treinando o modelo SVR\n",
        "regSVR = SVR().fit(X_train,y_train)"
      ],
      "metadata": {
        "id": "3np1XW4RzhrU"
      },
      "execution_count": null,
      "outputs": []
    },
    {
      "cell_type": "code",
      "source": [
        "#Criando um modelo para predizer a massa de teste\n",
        "yPredSVR = regSVR.predict(X_test)"
      ],
      "metadata": {
        "id": "e42FAn6Q1mDD"
      },
      "execution_count": 103,
      "outputs": []
    },
    {
      "cell_type": "code",
      "source": [
        "#Calculando o Mean Squared Error\n",
        "MSESVR = mean_squared_error(y_test,yPredSVR)"
      ],
      "metadata": {
        "id": "4I0tjd092BMk"
      },
      "execution_count": 104,
      "outputs": []
    },
    {
      "cell_type": "code",
      "source": [
        "#Encontrando o RMSE (raiz do MSE)\n",
        "print(\"MSE SVR:\",MSESVR)\n",
        "print(\"RMSE SVR:\",np.sqrt(MSESVR))"
      ],
      "metadata": {
        "colab": {
          "base_uri": "https://localhost:8080/"
        },
        "id": "CF6bQLdN2bfk",
        "outputId": "adcdb05e-2572-49a8-de37-7feb9744ea1a"
      },
      "execution_count": 105,
      "outputs": [
        {
          "output_type": "stream",
          "name": "stdout",
          "text": [
            "MSE SVR: 52.8383657679667\n",
            "RMSE SVR: 7.269000327965785\n"
          ]
        }
      ]
    },
    {
      "cell_type": "markdown",
      "source": [
        "#TÉCNICA3. Decision Tree Regression (XGBoost)"
      ],
      "metadata": {
        "id": "V518mRE73IM1"
      }
    },
    {
      "cell_type": "code",
      "source": [
        "#Treinando o modelo Decision Tree Regression\n",
        "regXGB = XGBRegressor().fit(X_train,y_train)"
      ],
      "metadata": {
        "id": "ry2FF1I_3zK9"
      },
      "execution_count": 106,
      "outputs": []
    },
    {
      "cell_type": "code",
      "source": [
        "#Criando um modelo para predizer a massa de teste\n",
        "yPredXGB = regXGB.predict(X_test)"
      ],
      "metadata": {
        "id": "jYAa79Dk31v9"
      },
      "execution_count": 107,
      "outputs": []
    },
    {
      "cell_type": "code",
      "source": [
        "#Calculando o Mean Squared Error\n",
        "MSEXGB = mean_squared_error(y_test,yPredXGB)"
      ],
      "metadata": {
        "id": "KbcCgtbD34dt"
      },
      "execution_count": 108,
      "outputs": []
    },
    {
      "cell_type": "code",
      "source": [
        "#Encontrando o RMSE (raiz do MSE)\n",
        "print(\"MSE XGB:\",MSEXGB)\n",
        "print(\"RMSE XGB:\",np.sqrt(MSEXGB))"
      ],
      "metadata": {
        "colab": {
          "base_uri": "https://localhost:8080/"
        },
        "outputId": "ed0d9c7b-9725-4884-d0b0-6609f903618b",
        "id": "wqFfI5i636Jd"
      },
      "execution_count": 109,
      "outputs": [
        {
          "output_type": "stream",
          "name": "stdout",
          "text": [
            "MSE XGB: 6.909231565384943\n",
            "RMSE XGB: 2.62854171840299\n"
          ]
        }
      ]
    },
    {
      "cell_type": "markdown",
      "source": [
        "#OTIMIZAÇÃO DE HIPERPARAMETROS\n",
        "\n",
        "\n",
        "Utilizando o método GridSerachCV do SKLEARN\n",
        "\n",
        "https://scikit-learn.org/stable/modules/generated/sklearn.model_selection.GridSearchCV.html"
      ],
      "metadata": {
        "id": "kUhIoVKc6ond"
      }
    },
    {
      "cell_type": "code",
      "source": [
        "#Visualizando os parâmetros do modelo XGB\n",
        "regXGB.get_params().keys()"
      ],
      "metadata": {
        "colab": {
          "base_uri": "https://localhost:8080/"
        },
        "id": "BuQaHzDJ5xSM",
        "outputId": "19353804-cd32-4349-d3a8-eb8131440b5b"
      },
      "execution_count": 120,
      "outputs": [
        {
          "output_type": "execute_result",
          "data": {
            "text/plain": [
              "dict_keys(['objective', 'base_score', 'booster', 'callbacks', 'colsample_bylevel', 'colsample_bynode', 'colsample_bytree', 'device', 'early_stopping_rounds', 'enable_categorical', 'eval_metric', 'feature_types', 'gamma', 'grow_policy', 'importance_type', 'interaction_constraints', 'learning_rate', 'max_bin', 'max_cat_threshold', 'max_cat_to_onehot', 'max_delta_step', 'max_depth', 'max_leaves', 'min_child_weight', 'missing', 'monotone_constraints', 'multi_strategy', 'n_estimators', 'n_jobs', 'num_parallel_tree', 'random_state', 'reg_alpha', 'reg_lambda', 'sampling_method', 'scale_pos_weight', 'subsample', 'tree_method', 'validate_parameters', 'verbosity'])"
            ]
          },
          "metadata": {},
          "execution_count": 120
        }
      ]
    },
    {
      "cell_type": "code",
      "source": [
        "#Definindo os parâmetros\n",
        "parameters = {\n",
        "    #Níveis de decisão para baixo da árvore\n",
        "    \"max_depth\": [5, 6, 7],\n",
        "    #Velocidade que o XGBoost aprende com o Dataset\n",
        "    \"learning_rate\": [0.1, 0.2, 0.3],\n",
        "    #Especificar a task do objetivo que será feito\n",
        "    \"objective\": ['reg:squarederror'],\n",
        "    #Decide qual modelo usar\n",
        "    \"booster\": ['gbtree'],\n",
        "    #Quantidade de threads paralelas para rodar o XGBoost\n",
        "    \"n_jobs\": [5],\n",
        "    #Valor de redução mínima da perda para se criar uma partição dentro de uma folha da árvore\n",
        "    \"gamma\": [0, 1],\n",
        "    #Soma do peso mínimo do nó filho da árvore\n",
        "    \"min_child_weight\": [1,3],\n",
        "    #máximo permitido dentro do peso da árvore\n",
        "    \"max_delta_step\": [0,1],\n",
        "    #porcentagem de sub-amostras no treinamento\n",
        "    \"subsample\": [0.5, 1]\n",
        "}"
      ],
      "metadata": {
        "id": "IFe5S8TzQGH-"
      },
      "execution_count": 129,
      "outputs": []
    },
    {
      "cell_type": "code",
      "source": [
        "#Utilizando o GridSearchCV para configurar o modelo com as variações de hiperparâmetros\n",
        "xgbGrid = GridSearchCV(XGBRegressor(),parameters,refit= 'neg_mean_squared_error',verbose=True)"
      ],
      "metadata": {
        "id": "z9ZJC8oJUOj9"
      },
      "execution_count": 131,
      "outputs": []
    },
    {
      "cell_type": "code",
      "source": [
        "#Treinando o modelo\n",
        "xgbGridModel = xgbGrid.fit(X_train, y_train)"
      ],
      "metadata": {
        "colab": {
          "base_uri": "https://localhost:8080/"
        },
        "id": "TEyFQFiaVjYm",
        "outputId": "024d6da7-1738-4c1a-f2bf-7e339d2d4170"
      },
      "execution_count": 132,
      "outputs": [
        {
          "output_type": "stream",
          "name": "stdout",
          "text": [
            "Fitting 5 folds for each of 144 candidates, totalling 720 fits\n"
          ]
        }
      ]
    },
    {
      "cell_type": "code",
      "source": [
        "#Encontrando o melhor parâmetro\n",
        "xgbGridModel.best_params_"
      ],
      "metadata": {
        "colab": {
          "base_uri": "https://localhost:8080/"
        },
        "id": "xKEBFpdMYK0M",
        "outputId": "615bcc84-40ec-4f75-e27a-52c7e7f42c1c"
      },
      "execution_count": 133,
      "outputs": [
        {
          "output_type": "execute_result",
          "data": {
            "text/plain": [
              "{'booster': 'gbtree',\n",
              " 'gamma': 0,\n",
              " 'learning_rate': 0.2,\n",
              " 'max_delta_step': 0,\n",
              " 'max_depth': 5,\n",
              " 'min_child_weight': 1,\n",
              " 'n_jobs': 5,\n",
              " 'objective': 'reg:squarederror',\n",
              " 'subsample': 0.5}"
            ]
          },
          "metadata": {},
          "execution_count": 133
        }
      ]
    },
    {
      "cell_type": "code",
      "source": [
        "#Encontrando o melhor parâmetro\n",
        "yGrid = xgbGridModel.predict(X_test)"
      ],
      "metadata": {
        "id": "hRrXO9gKZ7n1"
      },
      "execution_count": 134,
      "outputs": []
    },
    {
      "cell_type": "code",
      "source": [
        "#Calculando o Mean Squared Error\n",
        "MSEGrid = mean_squared_error(y_test,yGrid)"
      ],
      "metadata": {
        "id": "9QX7kygVaKe1"
      },
      "execution_count": 135,
      "outputs": []
    },
    {
      "cell_type": "code",
      "source": [
        "#Encontrando o RMSE (raiz do MSE)\n",
        "print(\"MSE SVR:\",MSEGrid)\n",
        "print(\"RMSE SVR:\",np.sqrt(MSEGrid))"
      ],
      "metadata": {
        "id": "LUszVTp7aR0F"
      },
      "execution_count": null,
      "outputs": []
    },
    {
      "cell_type": "code",
      "source": [],
      "metadata": {
        "id": "kv0KtqZUbKe1"
      },
      "execution_count": null,
      "outputs": []
    }
  ]
}